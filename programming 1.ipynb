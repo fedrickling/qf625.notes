{
 "cells": [
  {
   "cell_type": "markdown",
   "metadata": {},
   "source": [
    "# 1: Indexing"
   ]
  },
  {
   "cell_type": "code",
   "execution_count": 24,
   "metadata": {},
   "outputs": [
    {
     "data": {
      "text/plain": [
       "'80kg'"
      ]
     },
     "execution_count": 24,
     "metadata": {},
     "output_type": "execute_result"
    }
   ],
   "source": [
    "### Indexing\n",
    "\n",
    "# Let's say we have two list that connect to each other\n",
    "\n",
    "name = [\"Fedrick\", \"Sean\", \"Roh\"]\n",
    "weight = [\"65kg\", \"80kg\", \"75kg\"]\n",
    "\n",
    "# Now, we want to identify the max weight. We can use max function to identify it:\n",
    "\n",
    "max_weight = max(weight)\n",
    "max_weight"
   ]
  },
  {
   "cell_type": "code",
   "execution_count": 25,
   "metadata": {},
   "outputs": [
    {
     "data": {
      "text/plain": [
       "1"
      ]
     },
     "execution_count": 25,
     "metadata": {},
     "output_type": "execute_result"
    }
   ],
   "source": [
    "## Then we use Index method to find, who has this max weight. We can do this by:\n",
    "\n",
    "max_index = weight.index(max_weight)\n",
    "max_index\n",
    "\n",
    "# This 1 means the location of the index: [0, 1, 2]\n",
    "# With this indexing, we can use this to locate the name of who having the max weight"
   ]
  },
  {
   "cell_type": "code",
   "execution_count": 27,
   "metadata": {},
   "outputs": [
    {
     "data": {
      "text/plain": [
       "'Sean'"
      ]
     },
     "execution_count": 27,
     "metadata": {},
     "output_type": "execute_result"
    }
   ],
   "source": [
    "# Let's try to locate the name of the max weight\n",
    "\n",
    "heaviest = name[max_index]\n",
    "heaviest"
   ]
  },
  {
   "cell_type": "markdown",
   "metadata": {},
   "source": [
    "# 2: Define"
   ]
  },
  {
   "cell_type": "code",
   "execution_count": 1,
   "metadata": {},
   "outputs": [
    {
     "data": {
      "text/plain": [
       "4"
      ]
     },
     "execution_count": 1,
     "metadata": {},
     "output_type": "execute_result"
    }
   ],
   "source": [
    "### Define\n",
    "\n",
    "# Let's say you want to define sum_of_two_numbers as a + b, you will use define function to define it.\n",
    "\n",
    "def sum_of_two_numbers(a,b): \n",
    "    return a + b              # You use return to define it as.\n",
    "\n",
    "# Let's try this.\n",
    "\n",
    "sum_of_two_numbers(1,3)"
   ]
  },
  {
   "cell_type": "markdown",
   "metadata": {},
   "source": [
    "# 3: Loops"
   ]
  },
  {
   "cell_type": "code",
   "execution_count": 5,
   "metadata": {},
   "outputs": [
    {
     "name": "stdout",
     "output_type": "stream",
     "text": [
      "1\n",
      "2\n",
      "3\n",
      "4\n",
      "5\n",
      "a\n",
      "b\n",
      "c\n",
      "d\n"
     ]
    }
   ],
   "source": [
    "### Loops\n",
    "\n",
    "# Let's say you have a list, and wanted to print each element in the list, how would you do that?\n",
    "# You will use method call loop, let's see:\n",
    "\n",
    "our_number_list = [1, 2, 3, 4, 5]    # This is our list, for numbers\n",
    "for x in our_list:\n",
    "    print(x)\n",
    "    \n",
    "our_words_list = [\"a\", \"b\", \"c\", \"d\"] # This is our list, for letter\n",
    "for letter in our_words_list:\n",
    "    print(letter)\n",
    "    \n",
    "# Printed the following list in order:"
   ]
  },
  {
   "cell_type": "markdown",
   "metadata": {},
   "source": [
    "# 4: Dictionary"
   ]
  },
  {
   "cell_type": "code",
   "execution_count": 7,
   "metadata": {},
   "outputs": [
    {
     "data": {
      "text/plain": [
       "{'first_name': 'Fedrick',\n",
       " 'last_name': 'Ling',\n",
       " 'City': 'Singapore',\n",
       " 'Gender': 'Male'}"
      ]
     },
     "execution_count": 7,
     "metadata": {},
     "output_type": "execute_result"
    }
   ],
   "source": [
    "### Dictionary \n",
    "\n",
    "# Dictionary have to use curly braces {}\n",
    "# Dictionary is to create a set of keys, with a value for that key\n",
    "\n",
    "# Let's try\n",
    "\n",
    "my_data = {\"first_name\": \"Fedrick\", \"last_name\": \"Ling\", \"City\": \"Singapore\", \"Gender\": \"Male\"}\n",
    "my_data"
   ]
  },
  {
   "cell_type": "code",
   "execution_count": 13,
   "metadata": {},
   "outputs": [
    {
     "data": {
      "text/plain": [
       "{'first_name': 'Fedrick',\n",
       " 'last_name': 'Ling',\n",
       " 'City': 'Singapore',\n",
       " 'Gender': 'Male',\n",
       " 'Height': '170cm'}"
      ]
     },
     "execution_count": 13,
     "metadata": {},
     "output_type": "execute_result"
    }
   ],
   "source": [
    "## But if you wish to add more data into the list, let's say height\n",
    "\n",
    "# You just have to do the following:\n",
    "\n",
    "my_data[\"Height\"] = (\"170cm\")    # You find the: data_source[\"Key\"] = (\"Key Value\")\n",
    "\n",
    "# Now let's see my new data\n",
    "\n",
    "my_data"
   ]
  },
  {
   "cell_type": "code",
   "execution_count": 20,
   "metadata": {},
   "outputs": [
    {
     "name": "stdout",
     "output_type": "stream",
     "text": [
      "first_name\n",
      "last_name\n",
      "City\n",
      "Gender\n",
      "Height\n"
     ]
    }
   ],
   "source": [
    "## Using Loops, we can now extract a list of key value with it's key \n",
    "\n",
    "# Let's see\n",
    "\n",
    "for key in my_data:\n",
    "    print(key)\n",
    "\n",
    "# I printed the key:"
   ]
  },
  {
   "cell_type": "code",
   "execution_count": 22,
   "metadata": {},
   "outputs": [
    {
     "name": "stdout",
     "output_type": "stream",
     "text": [
      "first_name: Fedrick\n",
      "last_name: Ling\n",
      "City: Singapore\n",
      "Gender: Male\n",
      "Height: 170cm\n"
     ]
    }
   ],
   "source": [
    "## Now, if I want to print the KEY VALUE with the key, I have to do this:\n",
    "\n",
    "for key_value in my_data:\n",
    "    print(key_value +\": \"+ my_data[key_value])\n",
    "    \n",
    "# Now we get the key and it's key value"
   ]
  }
 ],
 "metadata": {
  "kernelspec": {
   "display_name": "Python 3",
   "language": "python",
   "name": "python3"
  },
  "language_info": {
   "codemirror_mode": {
    "name": "ipython",
    "version": 3
   },
   "file_extension": ".py",
   "mimetype": "text/x-python",
   "name": "python",
   "nbconvert_exporter": "python",
   "pygments_lexer": "ipython3",
   "version": "3.8.3"
  }
 },
 "nbformat": 4,
 "nbformat_minor": 4
}
