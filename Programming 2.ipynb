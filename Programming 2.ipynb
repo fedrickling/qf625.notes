{
 "cells": [
  {
   "cell_type": "markdown",
   "metadata": {},
   "source": [
    "# 1: Introduction to array"
   ]
  },
  {
   "cell_type": "code",
   "execution_count": null,
   "metadata": {},
   "outputs": [],
   "source": [
    "### We always have to import packages to start working with built in packages\n",
    "\n",
    "import numpy as np"
   ]
  },
  {
   "cell_type": "code",
   "execution_count": 4,
   "metadata": {},
   "outputs": [
    {
     "data": {
      "text/plain": [
       "list"
      ]
     },
     "execution_count": 4,
     "metadata": {},
     "output_type": "execute_result"
    }
   ],
   "source": [
    "### Introducing arrays\n",
    "\n",
    "# So what is array? Array is also like a list; BUT list can stores mutiple types of data,\n",
    "# Arrays can store one type of data types\n",
    "\n",
    "# Let me show you\n",
    "\n",
    "this_is_list = [\"Fedrick\", 19, False] # We have different types of data in this list\n",
    "\n",
    "# Now let's check what is the type of this_is_a_list\n",
    "\n",
    "type(this_is_list)\n",
    "\n",
    "# Is a list:"
   ]
  },
  {
   "cell_type": "code",
   "execution_count": 10,
   "metadata": {},
   "outputs": [
    {
     "name": "stdout",
     "output_type": "stream",
     "text": [
      "['Fedrick' '19' 'False']\n"
     ]
    }
   ],
   "source": [
    "# let's see now if we use array\n",
    "\n",
    "this_is_array = np.array([\"Fedrick\", 19, False]) # So what happen here is that I have to use array function in numpy\n",
    "# So in order to use array function in numpy, I have to np.array()\n",
    "# np.array() is the function and within this function I'll have a list of things, therefore I use [] in np.array()\n",
    "# => np.array([1,2,3])\n",
    "\n",
    "# This is also the same as:\n",
    "# this_is_array = np.array(this_is_list)\n",
    "\n",
    "# Now, let's print this\n",
    "print(this_is_array)\n"
   ]
  },
  {
   "cell_type": "code",
   "execution_count": 7,
   "metadata": {},
   "outputs": [
    {
     "data": {
      "text/plain": [
       "numpy.ndarray"
      ]
     },
     "execution_count": 7,
     "metadata": {},
     "output_type": "execute_result"
    }
   ],
   "source": [
    "# Look what happen?\n",
    "# All 3 of the elements have ''\n",
    "# Now, let's see what is this data type\n",
    "\n",
    "type(this_is_array)\n",
    "\n",
    "# Is an array:"
   ]
  },
  {
   "cell_type": "markdown",
   "metadata": {},
   "source": [
    "# 2: Application of arrays"
   ]
  },
  {
   "cell_type": "code",
   "execution_count": 12,
   "metadata": {},
   "outputs": [
    {
     "name": "stdout",
     "output_type": "stream",
     "text": [
      "[43, 9, 10, 11, 55, 4, 24, 100, 2, 11]\n"
     ]
    }
   ],
   "source": [
    "# So what is the different between arrays and list\n",
    "# > list is a list, but arrays can do computational works\n",
    "\n",
    "# Let me show you waht I mean\n",
    "\n",
    "a = [43, 9, 10, 11, 55] \n",
    "b = [4, 24, 100, 2, 11]\n",
    "\n",
    "# Here is two list, let's combine them\n",
    "\n",
    "c = a + b\n",
    "print(c)"
   ]
  },
  {
   "cell_type": "code",
   "execution_count": 14,
   "metadata": {},
   "outputs": [
    {
     "name": "stdout",
     "output_type": "stream",
     "text": [
      "[ 47  33 110  13  66]\n"
     ]
    }
   ],
   "source": [
    "# YOU SEE WHAT IS THIS????\n",
    "# This is not not addition between a and b, is just a combination\n",
    "# So how to do addition, we need to make it array!\n",
    "\n",
    "# Let's make it array:\n",
    "\n",
    "a_array = np.array(a)\n",
    "b_array = np.array(b)\n",
    "\n",
    "# Now they are array, now, let's do addition\n",
    "\n",
    "c_array = a_array + b_array\n",
    "print(c_array)\n",
    "\n",
    "# LOOK! Addition:"
   ]
  },
  {
   "cell_type": "markdown",
   "metadata": {},
   "source": [
    "# 3: Array and list similarity"
   ]
  },
  {
   "cell_type": "code",
   "execution_count": 19,
   "metadata": {},
   "outputs": [
    {
     "name": "stdout",
     "output_type": "stream",
     "text": [
      "[ 33 110  13]\n"
     ]
    }
   ],
   "source": [
    "# Now, lets harvest data from the arrays using indexing:\n",
    "\n",
    "# We want the data: 33, 110 and 13 from the arrays, how can we print this?\n",
    "# We can do this by using indexing:\n",
    "\n",
    "middle_three = c_array[1:4] # WHY 4??? Because the index work as [inclusive: exclusive], \n",
    "# So means include element 1 up to element 4\n",
    "\n",
    "print(middle_three)"
   ]
  },
  {
   "cell_type": "code",
   "execution_count": 24,
   "metadata": {},
   "outputs": [
    {
     "name": "stdout",
     "output_type": "stream",
     "text": [
      "[13 66]\n"
     ]
    }
   ],
   "source": [
    "# If I want only the last two elements?\n",
    "\n",
    "last_two = c_array[-2: ] # Why is there an empty space after [-2: ]?\n",
    "# It means from the element -2 until end\n",
    "\n",
    "print(last_two)"
   ]
  },
  {
   "cell_type": "code",
   "execution_count": 27,
   "metadata": {},
   "outputs": [
    {
     "name": "stdout",
     "output_type": "stream",
     "text": [
      "[ 47 110  66]\n"
     ]
    }
   ],
   "source": [
    "# If I want to print every other element in c_array?\n",
    "\n",
    "every_other = c_array[0: :2] # WHAT IS THIS?????\n",
    "# This means from element 0, all the way until the end, skip 2\n",
    "\n",
    "print(every_other)"
   ]
  },
  {
   "cell_type": "code",
   "execution_count": 30,
   "metadata": {},
   "outputs": [
    {
     "name": "stdout",
     "output_type": "stream",
     "text": [
      "[[ 1  2  3  4]\n",
      " [10  9  8  7]]\n"
     ]
    }
   ],
   "source": [
    "# NOW, if there is a list in a list?\n",
    "# It is called a nested list\n",
    "\n",
    "nested = np.array([[1, 2, 3, 4],[10, 9, 8, 7]]) # Why 2 sqaure brackets?\n",
    "# What happen here is [[list 1], [list 2]]: list in a list\n",
    "\n",
    "print(nested)"
   ]
  },
  {
   "cell_type": "markdown",
   "metadata": {},
   "source": [
    "# 4: Methods in array"
   ]
  },
  {
   "cell_type": "code",
   "execution_count": 32,
   "metadata": {},
   "outputs": [
    {
     "data": {
      "text/plain": [
       "(2, 4)"
      ]
     },
     "execution_count": 32,
     "metadata": {},
     "output_type": "execute_result"
    }
   ],
   "source": [
    "### Shape\n",
    "\n",
    "# We can see the shape of array using np.shape function\n",
    "\n",
    "np.shape(nested) \n",
    "\n",
    "# This mean (Row x Column)"
   ]
  },
  {
   "cell_type": "code",
   "execution_count": 33,
   "metadata": {},
   "outputs": [
    {
     "data": {
      "text/plain": [
       "8"
      ]
     },
     "execution_count": 33,
     "metadata": {},
     "output_type": "execute_result"
    }
   ],
   "source": [
    "### Size \n",
    "\n",
    "# We can see the size using np.size function (Row x Column)\n",
    "\n",
    "np.size(nested)"
   ]
  },
  {
   "cell_type": "code",
   "execution_count": 35,
   "metadata": {},
   "outputs": [
    {
     "name": "stdout",
     "output_type": "stream",
     "text": [
      "[[ 1 10]\n",
      " [ 2  9]\n",
      " [ 3  8]\n",
      " [ 4  7]]\n"
     ]
    }
   ],
   "source": [
    "### Transpose\n",
    "\n",
    "# We can transpose using np.transpose, it is very straight forward!\n",
    "\n",
    "nested_transpose = np.transpose(nested)\n",
    "print(nested_transpose)\n",
    "\n",
    "# The Row become Column, and the Column become Row"
   ]
  },
  {
   "cell_type": "code",
   "execution_count": 43,
   "metadata": {},
   "outputs": [
    {
     "name": "stdout",
     "output_type": "stream",
     "text": [
      "[1 2 3 4]\n"
     ]
    }
   ],
   "source": [
    "# Now, it is already transposed, how can I get the data [1, 2, 3, 4] as small?\n",
    "\n",
    "small = nested_transpose[:,0] # What is this?\n",
    "# This is [Row, Column]\n",
    "# So it means [for all the rows, give me first column]\n",
    "\n",
    "print(small)"
   ]
  },
  {
   "cell_type": "code",
   "execution_count": 46,
   "metadata": {},
   "outputs": [
    {
     "name": "stdout",
     "output_type": "stream",
     "text": [
      "[[2 9]\n",
      " [3 8]]\n"
     ]
    }
   ],
   "source": [
    "# If I want 2nd row and 3rd row data for both row and column?\n",
    "\n",
    "nested_23 = nested_transpose[1:3,:]\n",
    "# [give me row 1 to 3, for all the columns]\n",
    "\n",
    "print(nested_23)"
   ]
  },
  {
   "cell_type": "markdown",
   "metadata": {},
   "source": [
    "# 5: Copying arrays"
   ]
  },
  {
   "cell_type": "code",
   "execution_count": 47,
   "metadata": {},
   "outputs": [
    {
     "name": "stdout",
     "output_type": "stream",
     "text": [
      "[100   2   3]\n"
     ]
    }
   ],
   "source": [
    "x = np.array([1, 2, 3]) # Let's say we have this array\n",
    "y = x\n",
    "y[0] = 100 # y index first element, become 100: so 1 become 100\n",
    "\n",
    "print(y)"
   ]
  },
  {
   "cell_type": "code",
   "execution_count": 48,
   "metadata": {},
   "outputs": [
    {
     "name": "stdout",
     "output_type": "stream",
     "text": [
      "[100   2   3]\n"
     ]
    }
   ],
   "source": [
    "# y will be fine, but x will not be [1, 2, 3], let's see\n",
    "\n",
    "print(x)"
   ]
  },
  {
   "cell_type": "code",
   "execution_count": 50,
   "metadata": {},
   "outputs": [
    {
     "name": "stdout",
     "output_type": "stream",
     "text": [
      "[100   2   3]\n",
      "[1 2 3]\n"
     ]
    }
   ],
   "source": [
    "# How to solve this?\n",
    "\n",
    "f = np.array([1, 2, 3])\n",
    "g = f.copy() # Using .copy() function\n",
    "\n",
    "g[0] = 100\n",
    "\n",
    "print(g); print(f)\n",
    "\n",
    "# Solved:"
   ]
  },
  {
   "cell_type": "markdown",
   "metadata": {},
   "source": [
    "# 6: Mathematics with array"
   ]
  },
  {
   "cell_type": "code",
   "execution_count": 52,
   "metadata": {},
   "outputs": [
    {
     "name": "stdout",
     "output_type": "stream",
     "text": [
      "[[ 1 10]\n",
      " [ 2  9]\n",
      " [ 3  8]\n",
      " [ 4  7]]\n"
     ]
    }
   ],
   "source": [
    "# let's print nested_transpose\n",
    "\n",
    "print(nested_transpose)"
   ]
  },
  {
   "cell_type": "code",
   "execution_count": 58,
   "metadata": {},
   "outputs": [
    {
     "data": {
      "text/plain": [
       "array([ 4, 10])"
      ]
     },
     "execution_count": 58,
     "metadata": {},
     "output_type": "execute_result"
    }
   ],
   "source": [
    "# So now we want to get maximum in each column\n",
    "# We use np.max function to get the maximum\n",
    "\n",
    "np.max(nested_transpose, axis =0)\n",
    "\n",
    "# axis = 0 for column\n",
    "# axis = 1 for row\n",
    "# no axis = whole sample"
   ]
  },
  {
   "cell_type": "code",
   "execution_count": 59,
   "metadata": {},
   "outputs": [
    {
     "data": {
      "text/plain": [
       "array([10, 34])"
      ]
     },
     "execution_count": 59,
     "metadata": {},
     "output_type": "execute_result"
    }
   ],
   "source": [
    "# We can do summation for each row too\n",
    "\n",
    "np.sum(nested_transpose, axis = 0)"
   ]
  },
  {
   "cell_type": "code",
   "execution_count": 60,
   "metadata": {},
   "outputs": [],
   "source": [
    "# And we have other function such as\n",
    "\n",
    "# np.mean for mean\n",
    "# np.std for standard deviation"
   ]
  },
  {
   "cell_type": "markdown",
   "metadata": {},
   "source": [
    "# Boolean array"
   ]
  },
  {
   "cell_type": "code",
   "execution_count": 61,
   "metadata": {},
   "outputs": [
    {
     "name": "stdout",
     "output_type": "stream",
     "text": [
      "[False False  True False  True]\n"
     ]
    }
   ],
   "source": [
    "# Let's create a data\n",
    "\n",
    "data = np.array([34, 23, 142, 9, 66])\n",
    "\n",
    "# Now find the mean of the data\n",
    "\n",
    "data_mean = np.mean(data)\n",
    "\n",
    "# Let's create a boolean array to see if the elements in data are greater than the average \n",
    "\n",
    "boolean_data = data_mean < data\n",
    "print(boolean_data)"
   ]
  },
  {
   "cell_type": "code",
   "execution_count": 63,
   "metadata": {},
   "outputs": [
    {
     "name": "stdout",
     "output_type": "stream",
     "text": [
      "[142  66]\n"
     ]
    }
   ],
   "source": [
    "# Now, let's find which number are more than average\n",
    "\n",
    "print(data[boolean_data])"
   ]
  }
 ],
 "metadata": {
  "kernelspec": {
   "display_name": "Python 3",
   "language": "python",
   "name": "python3"
  },
  "language_info": {
   "codemirror_mode": {
    "name": "ipython",
    "version": 3
   },
   "file_extension": ".py",
   "mimetype": "text/x-python",
   "name": "python",
   "nbconvert_exporter": "python",
   "pygments_lexer": "ipython3",
   "version": "3.8.3"
  }
 },
 "nbformat": 4,
 "nbformat_minor": 4
}
